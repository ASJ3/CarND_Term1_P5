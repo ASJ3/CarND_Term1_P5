{
 "cells": [
  {
   "cell_type": "code",
   "execution_count": 1,
   "metadata": {
    "collapsed": false,
    "deletable": true,
    "editable": true
   },
   "outputs": [],
   "source": [
    "# import and look at pictures\n",
    "# read and show inline a picture\n",
    "\n",
    "import numpy as np\n",
    "import cv2\n",
    "import matplotlib.pyplot as plt\n",
    "import matplotlib.image as mpimg\n",
    "import glob\n",
    "import math\n",
    "import statistics\n",
    "\n",
    "%matplotlib inline"
   ]
  },
  {
   "cell_type": "code",
   "execution_count": 2,
   "metadata": {
    "collapsed": false,
    "deletable": true,
    "editable": true
   },
   "outputs": [
    {
     "name": "stdout",
     "output_type": "stream",
     "text": [
      "# of images in non-vehicle training set is: (5068 + 3900) = 8968\n",
      "../Vehicles_Sets/non_vehicles/Extras/extra1.png\n"
     ]
    }
   ],
   "source": [
    "# Get all the training images, which are in another main folder\n",
    "# Combine the training images into two main sets: one for non-vehicles and the other for vehicles\n",
    "# Here we deal with the non-vehicle set\n",
    "nv_img_set1 = glob.glob('../Vehicles_Sets/non_vehicles/Extras/*.png')\n",
    "nv_img_set2 = glob.glob('../Vehicles_Sets/non_vehicles/GTI/*.png')\n",
    "\n",
    "nv_img_set = []\n",
    "nv_img_set.extend(nv_img_set1)\n",
    "nv_img_set.extend(nv_img_set2)\n",
    "\n",
    "print('# of images in non-vehicle training set is: ({} + {}) = {}'.format(len(nv_img_set1), len(nv_img_set2), len(nv_img_set)))\n",
    "print(nv_img_set[0])"
   ]
  },
  {
   "cell_type": "code",
   "execution_count": 3,
   "metadata": {
    "collapsed": false,
    "deletable": true,
    "editable": true
   },
   "outputs": [
    {
     "name": "stdout",
     "output_type": "stream",
     "text": [
      "# of images in vehicle training set is: (834 + 909 + 419 + 664 + 5966) = 8792\n",
      "../Vehicles_Sets/vehicles/GTI_Far/image0115.png\n"
     ]
    }
   ],
   "source": [
    "# Get all the training images, which are in another main folder\n",
    "# Combine the training images into two main sets: one for non-vehicles and the other for vehicles\n",
    "# Here we deal with the vehicle set\n",
    "v_img_set1 = glob.glob('../Vehicles_Sets/vehicles/GTI_Far/*.png')\n",
    "v_img_set2 = glob.glob('../Vehicles_Sets/vehicles/GTI_Left/*.png')\n",
    "v_img_set3 = glob.glob('../Vehicles_Sets/vehicles/GTI_MiddleClose/*.png')\n",
    "v_img_set4 = glob.glob('../Vehicles_Sets/vehicles/GTI_Right/*.png')\n",
    "v_img_set5 = glob.glob('../Vehicles_Sets/vehicles/KITTI_extracted/*.png')\n",
    "\n",
    "\n",
    "v_img_set = []\n",
    "v_img_set.extend(v_img_set1)\n",
    "v_img_set.extend(v_img_set2)\n",
    "v_img_set.extend(v_img_set3)\n",
    "v_img_set.extend(v_img_set4)\n",
    "v_img_set.extend(v_img_set5)\n",
    "\n",
    "print('# of images in vehicle training set is: ({} + {} + {} + {} + {}) = {}'.format(len(v_img_set1), len(v_img_set2), len(v_img_set3), len(v_img_set4), len(v_img_set5), len(v_img_set)))\n",
    "print(v_img_set[64])"
   ]
  },
  {
   "cell_type": "code",
   "execution_count": 4,
   "metadata": {
    "collapsed": false,
    "deletable": true,
    "editable": true
   },
   "outputs": [
    {
     "name": "stdout",
     "output_type": "stream",
     "text": [
      "[ 1.  1.  0.  0.  0.  0.]\n",
      "17760\n"
     ]
    }
   ],
   "source": [
    "# Combine our image sets (of cars and non cars)\n",
    "total_img_set_path = list(v_img_set)\n",
    "total_img_set_path.extend(nv_img_set)\n",
    "# Create labels for our image sets (ones for images with a car and zeros for images with no car)\n",
    "y = np.hstack((np.ones(len(v_img_set)), \n",
    "              np.zeros(len(nv_img_set))))\n",
    "print(y[8790:8796])\n",
    "print(len(total_img_set_path))"
   ]
  },
  {
   "cell_type": "code",
   "execution_count": 50,
   "metadata": {
    "collapsed": false,
    "deletable": true,
    "editable": true
   },
   "outputs": [
    {
     "data": {
      "image/png": "[encoded data removed]",
      "text/plain": [
       "<matplotlib.figure.Figure at 0x119df3358>"
      ]
     },
     "metadata": {},
     "output_type": "display_data"
    }
   ],
   "source": [
    "# Read one of the images using OpenCV\n",
    "#img_BGR = cv2.imread(v_img_set[64])\n",
    "#img_BGR = cv2.imread('../Vehicles_Sets/vehicles/GTI_Far/image0658.png')\n",
    "#img_BGR = cv2.imread('./test_images/scrshot01.png')\n",
    "img_BGR = cv2.imread('../Vehicles_Sets/vehicles/GTI_Far/image0307.png')\n",
    "img = cv2.cvtColor(img_BGR, cv2.COLOR_BGR2RGB)\n",
    "plt.imshow(img)\n",
    "plt.title('Image from one of the image training sets')\n",
    "plt.show()"
   ]
  },
  {
   "cell_type": "code",
   "execution_count": 51,
   "metadata": {
    "collapsed": false,
    "deletable": true,
    "editable": true
   },
   "outputs": [
    {
     "data": {
      "text/plain": [
       "array([[69, 72, 53],\n",
       "       [69, 72, 53]], dtype=uint8)"
      ]
     },
     "execution_count": 51,
     "metadata": {},
     "output_type": "execute_result"
    }
   ],
   "source": [
    "# Showing the RGB number arrays making up the picture\n",
    "img[0][:2]"
   ]
  },
  {
   "cell_type": "code",
   "execution_count": 52,
   "metadata": {
    "collapsed": true,
    "deletable": true,
    "editable": true
   },
   "outputs": [],
   "source": [
    "#### Converting an image to HLS color space, because Hue is helpful to catch yellow lanes\n",
    "#### while Lightness and Saturation are helpful to find both lanes\n",
    "def apply_hls(img):\n",
    "    hls = cv2.cvtColor(img, cv2.COLOR_RGB2HLS)\n",
    "    hue_img = hls[:,:,0]\n",
    "    light_img = hls[:,:,1]\n",
    "    sat_img = hls[:,:,2]\n",
    "    \n",
    "    return (hue_img, light_img, sat_img)"
   ]
  },
  {
   "cell_type": "code",
   "execution_count": 53,
   "metadata": {
    "collapsed": true,
    "deletable": true,
    "editable": true
   },
   "outputs": [],
   "source": [
    "res_img = apply_hls(img)"
   ]
  },
  {
   "cell_type": "code",
   "execution_count": 54,
   "metadata": {
    "collapsed": false,
    "deletable": true,
    "editable": true
   },
   "outputs": [
    {
     "data": {
      "image/png": "[encoded data removed]",
      "text/plain": [
       "<matplotlib.figure.Figure at 0x11b4fcd30>"
      ]
     },
     "metadata": {},
     "output_type": "display_data"
    }
   ],
   "source": [
    "img_gr = cv2.cvtColor(img_BGR, cv2.COLOR_RGB2GRAY)\n",
    "\n",
    "f, (ax1, ax2, ax3, ax4) = plt.subplots(1,4, figsize=(15,10))\n",
    "\n",
    "ax1.set_title('Hue Map')\n",
    "ax1.imshow(res_img[0], cmap = 'gray')\n",
    "\n",
    "ax2.set_title('Lightness Map')\n",
    "ax2.imshow(res_img[1], cmap = 'gray')\n",
    "\n",
    "ax3.set_title('Saturation Map')\n",
    "ax3.imshow(res_img[2], cmap = 'gray')\n",
    "\n",
    "ax4.set_title('Original Gray')\n",
    "ax4.imshow(img_gr, cmap = 'gray')\n",
    "\n",
    "plt.show()"
   ]
  },
  {
   "cell_type": "code",
   "execution_count": 61,
   "metadata": {
    "collapsed": true,
    "deletable": true,
    "editable": true
   },
   "outputs": [],
   "source": [
    "# extract the Histogram of Oriented Gradient from a picture\n",
    "from skimage.feature import hog\n",
    "\n",
    "pix_per_cell = 8\n",
    "cell_per_block = 2\n",
    "orient = 7\n",
    "\n",
    "features, hog_image = hog(img_gr, orientations=orient, pixels_per_cell=(pix_per_cell, pix_per_cell), cells_per_block=(cell_per_block, cell_per_block), visualise=True, feature_vector=False)"
   ]
  },
  {
   "cell_type": "code",
   "execution_count": 62,
   "metadata": {
    "collapsed": false,
    "deletable": true,
    "editable": true
   },
   "outputs": [
    {
     "data": {
      "image/png": "[encoded data removed]",
      "text/plain": [
       "<matplotlib.figure.Figure at 0x11b63ac18>"
      ]
     },
     "metadata": {},
     "output_type": "display_data"
    }
   ],
   "source": [
    "f, (ax1, ax2) = plt.subplots(2,1, figsize=(30,20))\n",
    "\n",
    "ax1.set_title('Original Gray Image')\n",
    "ax1.imshow(img_gr, cmap = 'gray')\n",
    "\n",
    "ax2.set_title('HOG Visualization')\n",
    "ax2.imshow(hog_image, cmap = 'gray')\n",
    "\n",
    "plt.show()"
   ]
  },
  {
   "cell_type": "code",
   "execution_count": 63,
   "metadata": {
    "collapsed": false,
    "deletable": true,
    "editable": true
   },
   "outputs": [
    {
     "name": "stdout",
     "output_type": "stream",
     "text": [
      "(7, 7, 2, 2, 7)\n"
     ]
    }
   ],
   "source": [
    "print(features.shape)"
   ]
  },
  {
   "cell_type": "code",
   "execution_count": 64,
   "metadata": {
    "collapsed": false,
    "deletable": true,
    "editable": true
   },
   "outputs": [
    {
     "name": "stdout",
     "output_type": "stream",
     "text": [
      "1372\n"
     ]
    }
   ],
   "source": [
    "new = features.ravel()\n",
    "print(len(new))"
   ]
  },
  {
   "cell_type": "code",
   "execution_count": 65,
   "metadata": {
    "collapsed": false,
    "deletable": true,
    "editable": true
   },
   "outputs": [],
   "source": [
    "# Define a function to return HOG features and visualization\n",
    "def get_hog_features(img, orient, pix_per_cell, cell_per_block, vis=False, feature_vec=True):\n",
    "    if vis == True:\n",
    "        features, hog_image = hog(img, orientations=orient, pixels_per_cell=(pix_per_cell, pix_per_cell), cells_per_block=(cell_per_block, cell_per_block), visualise=True, feature_vector=False)\n",
    "        return features, hog_image\n",
    "    else:      \n",
    "        features = hog(img, orientations=orient, pixels_per_cell=(pix_per_cell, pix_per_cell), cells_per_block=(cell_per_block, cell_per_block), visualise=False, feature_vector=False)\n",
    "        return features"
   ]
  },
  {
   "cell_type": "code",
   "execution_count": 66,
   "metadata": {
    "collapsed": false,
    "deletable": true,
    "editable": true
   },
   "outputs": [],
   "source": [
    "# Now we need to take all our paths to our images, read them and get their HOG features \n",
    "# and save the results in a new list called total_img_set\n",
    "total_img_set = []\n",
    "pix_per_cell = 8\n",
    "cell_per_block = 2\n",
    "orient = 7\n",
    "\n",
    "for img_path in total_img_set_path:\n",
    "    img_BGR = cv2.imread(img_path)\n",
    "    img_gr = cv2.cvtColor(img_BGR, cv2.COLOR_RGB2GRAY)\n",
    "    hog_features =  get_hog_features(img_gr, orient, pix_per_cell, cell_per_block)\n",
    "    # now we have to 'flatten' the array of hog features\n",
    "    flat_array = hog_features.ravel()\n",
    "    total_img_set.append(flat_array)"
   ]
  },
  {
   "cell_type": "code",
   "execution_count": 67,
   "metadata": {
    "collapsed": false,
    "deletable": true,
    "editable": true
   },
   "outputs": [
    {
     "name": "stdout",
     "output_type": "stream",
     "text": [
      "17760\n"
     ]
    }
   ],
   "source": [
    "print(len(total_img_set))"
   ]
  },
  {
   "cell_type": "code",
   "execution_count": 68,
   "metadata": {
    "collapsed": false,
    "deletable": true,
    "editable": true
   },
   "outputs": [
    {
     "name": "stdout",
     "output_type": "stream",
     "text": [
      "(1372,)\n"
     ]
    }
   ],
   "source": [
    "print(total_img_set[0].shape)"
   ]
  },
  {
   "cell_type": "code",
   "execution_count": 69,
   "metadata": {
    "collapsed": false,
    "deletable": true,
    "editable": true
   },
   "outputs": [],
   "source": [
    "#from sklearn.cross_validation import train_test_split\n",
    "# But, if you are using scikit-learn >= 0.18 then use this:\n",
    "from sklearn.model_selection import train_test_split"
   ]
  },
  {
   "cell_type": "code",
   "execution_count": 70,
   "metadata": {
    "collapsed": true,
    "deletable": true,
    "editable": true
   },
   "outputs": [],
   "source": [
    "# Split up data into randomized training and test sets\n",
    "rand_state = np.random.randint(0, 100)\n",
    "X_train, X_test, y_train, y_test = train_test_split(\n",
    "    total_img_set, y, test_size=0.9, random_state=rand_state)"
   ]
  },
  {
   "cell_type": "code",
   "execution_count": 71,
   "metadata": {
    "collapsed": false,
    "deletable": true,
    "editable": true
   },
   "outputs": [
    {
     "name": "stdout",
     "output_type": "stream",
     "text": [
      "1776\n",
      "1776\n",
      "15984\n",
      "15984\n"
     ]
    }
   ],
   "source": [
    "print(len(X_train))\n",
    "print(len(y_train))\n",
    "print(len(X_test))\n",
    "print(len(y_test))"
   ]
  },
  {
   "cell_type": "code",
   "execution_count": 72,
   "metadata": {
    "collapsed": false,
    "deletable": true,
    "editable": true
   },
   "outputs": [
    {
     "data": {
      "text/plain": [
       "GridSearchCV(cv=None, error_score='raise',\n",
       "       estimator=SVC(C=1.0, cache_size=200, class_weight=None, coef0=0.0,\n",
       "  decision_function_shape=None, degree=3, gamma='auto', kernel='rbf',\n",
       "  max_iter=-1, probability=False, random_state=None, shrinking=True,\n",
       "  tol=0.001, verbose=False),\n",
       "       fit_params={}, iid=True, n_jobs=1,\n",
       "       param_grid={'kernel': ('linear', 'rbf'), 'C': [0.1, 1, 10]},\n",
       "       pre_dispatch='2*n_jobs', refit=True, return_train_score=True,\n",
       "       scoring=None, verbose=0)"
      ]
     },
     "execution_count": 72,
     "metadata": {},
     "output_type": "execute_result"
    }
   ],
   "source": [
    "from sklearn import svm\n",
    "from sklearn.model_selection import GridSearchCV\n",
    "\n",
    "parameters = {'kernel':('linear','rbf'), 'C':[0.1, 1, 10]}\n",
    "svr = svm.SVC()\n",
    "clf = GridSearchCV(svr, parameters)\n",
    "clf.fit(X_train, y_train)\n"
   ]
  },
  {
   "cell_type": "code",
   "execution_count": 75,
   "metadata": {
    "collapsed": false,
    "deletable": true,
    "editable": true
   },
   "outputs": [
    {
     "data": {
      "text/plain": [
       "GridSearchCV(cv=None, error_score='raise',\n",
       "       estimator=SVC(C=1.0, cache_size=200, class_weight=None, coef0=0.0,\n",
       "  decision_function_shape=None, degree=3, gamma='auto', kernel='rbf',\n",
       "  max_iter=-1, probability=False, random_state=None, shrinking=True,\n",
       "  tol=0.001, verbose=False),\n",
       "       fit_params={}, iid=True, n_jobs=1,\n",
       "       param_grid={'gamma': [0.001, 0.01, 0.1], 'C': [0.1, 1, 10]},\n",
       "       pre_dispatch='2*n_jobs', refit=True, return_train_score=True,\n",
       "       scoring=None, verbose=0)"
      ]
     },
     "execution_count": 75,
     "metadata": {},
     "output_type": "execute_result"
    }
   ],
   "source": [
    "from sklearn import svm\n",
    "from sklearn.model_selection import GridSearchCV\n",
    "\n",
    "parameters = {'C':[0.1, 1, 10], 'gamma':[0.001, 0.01, 0.1]}\n",
    "svr = svm.SVC()\n",
    "clf = GridSearchCV(svr, parameters)\n",
    "clf.fit(X_train, y_train)\n"
   ]
  },
  {
   "cell_type": "code",
   "execution_count": 76,
   "metadata": {
    "collapsed": false
   },
   "outputs": [
    {
     "name": "stdout",
     "output_type": "stream",
     "text": [
      "{'gamma': 0.1, 'C': 10}\n"
     ]
    }
   ],
   "source": [
    "print(clf.best_params_)"
   ]
  },
  {
   "cell_type": "code",
   "execution_count": 74,
   "metadata": {
    "collapsed": false
   },
   "outputs": [
    {
     "name": "stdout",
     "output_type": "stream",
     "text": [
      "Test Accuracy of SVC =  0.943068068068\n"
     ]
    }
   ],
   "source": [
    "print('Test Accuracy of SVC = ', clf.score(X_test, y_test))"
   ]
  },
  {
   "cell_type": "code",
   "execution_count": 77,
   "metadata": {
    "collapsed": false,
    "deletable": true,
    "editable": true
   },
   "outputs": [
    {
     "name": "stdout",
     "output_type": "stream",
     "text": [
      "Test Accuracy of SVC =  0.970095095095\n"
     ]
    }
   ],
   "source": [
    "print('Test Accuracy of SVC = ', clf.score(X_test, y_test))"
   ]
  },
  {
   "cell_type": "code",
   "execution_count": 78,
   "metadata": {
    "collapsed": false
   },
   "outputs": [
    {
     "name": "stdout",
     "output_type": "stream",
     "text": [
      "My SVC predicts:  [ 1.  1.  0.  1.  1.  1.  1.  0.  0.  0.  0.  1.  0.  1.  0.  1.  1.  1.]\n",
      "For labels:       [ 1.  1.  0.  1.  1.  1.  1.  0.  0.  0.  0.  1.  0.  1.  0.  1.  1.  1.]\n"
     ]
    }
   ],
   "source": [
    "print('My SVC predicts: ', clf.predict(X_test[0:18]))\n",
    "print('For labels:      ', y_test[0:18])"
   ]
  },
  {
   "cell_type": "code",
   "execution_count": 80,
   "metadata": {
    "collapsed": false
   },
   "outputs": [
    {
     "data": {
      "text/plain": [
       "SVC(C=10.0, cache_size=200, class_weight=None, coef0=0.0,\n",
       "  decision_function_shape=None, degree=3, gamma=0.1, kernel='rbf',\n",
       "  max_iter=-1, probability=False, random_state=None, shrinking=True,\n",
       "  tol=0.001, verbose=False)"
      ]
     },
     "execution_count": 80,
     "metadata": {},
     "output_type": "execute_result"
    }
   ],
   "source": [
    "# Now that we know what parameters are the best we can use them to retrain the Support Vector Machine\n",
    "# but this time with more training data. This way we should get a better fit\n",
    "\n",
    "# First, we split up data into randomized training and test sets, but with a bigger size of training set\n",
    "rand_state = np.random.randint(0, 100)\n",
    "X_train, X_test, y_train, y_test = train_test_split(\n",
    "    total_img_set, y, test_size=0.2, random_state=rand_state)\n",
    "\n",
    "# Second, we fit the SVC to the training set, but using the best parameters we found using gridSearchCV\n",
    "clf = svm.SVC(C = 10.0, gamma = 0.1)\n",
    "clf.fit(X_train, y_train)"
   ]
  },
  {
   "cell_type": "code",
   "execution_count": 81,
   "metadata": {
    "collapsed": false,
    "deletable": true,
    "editable": true
   },
   "outputs": [
    {
     "name": "stdout",
     "output_type": "stream",
     "text": [
      "Test Accuracy of SVC =  0.987894144144\n"
     ]
    }
   ],
   "source": [
    "print('Test Accuracy of SVC = ', clf.score(X_test, y_test))"
   ]
  },
  {
   "cell_type": "code",
   "execution_count": null,
   "metadata": {
    "collapsed": true
   },
   "outputs": [],
   "source": []
  },
  {
   "cell_type": "code",
   "execution_count": null,
   "metadata": {
    "collapsed": true
   },
   "outputs": [],
   "source": []
  },
  {
   "cell_type": "code",
   "execution_count": null,
   "metadata": {
    "collapsed": true,
    "deletable": true,
    "editable": true
   },
   "outputs": [],
   "source": []
  },
  {
   "cell_type": "code",
   "execution_count": null,
   "metadata": {
    "collapsed": true,
    "deletable": true,
    "editable": true
   },
   "outputs": [],
   "source": []
  },
  {
   "cell_type": "code",
   "execution_count": null,
   "metadata": {
    "collapsed": true,
    "deletable": true,
    "editable": true
   },
   "outputs": [],
   "source": []
  },
  {
   "cell_type": "code",
   "execution_count": null,
   "metadata": {
    "collapsed": true,
    "deletable": true,
    "editable": true
   },
   "outputs": [],
   "source": []
  },
  {
   "cell_type": "code",
   "execution_count": null,
   "metadata": {
    "collapsed": true,
    "deletable": true,
    "editable": true
   },
   "outputs": [],
   "source": []
  },
  {
   "cell_type": "code",
   "execution_count": null,
   "metadata": {
    "collapsed": true,
    "deletable": true,
    "editable": true
   },
   "outputs": [],
   "source": []
  },
  {
   "cell_type": "code",
   "execution_count": null,
   "metadata": {
    "collapsed": true,
    "deletable": true,
    "editable": true
   },
   "outputs": [],
   "source": []
  },
  {
   "cell_type": "code",
   "execution_count": null,
   "metadata": {
    "collapsed": true,
    "deletable": true,
    "editable": true
   },
   "outputs": [],
   "source": []
  },
  {
   "cell_type": "code",
   "execution_count": null,
   "metadata": {
    "collapsed": true,
    "deletable": true,
    "editable": true
   },
   "outputs": [],
   "source": []
  },
  {
   "cell_type": "code",
   "execution_count": null,
   "metadata": {
    "collapsed": true,
    "deletable": true,
    "editable": true
   },
   "outputs": [],
   "source": []
  },
  {
   "cell_type": "code",
   "execution_count": null,
   "metadata": {
    "collapsed": false,
    "deletable": true,
    "editable": true
   },
   "outputs": [],
   "source": [
    "X_train[0]"
   ]
  },
  {
   "cell_type": "code",
   "execution_count": 26,
   "metadata": {
    "collapsed": false,
    "deletable": true,
    "editable": true
   },
   "outputs": [
    {
     "data": {
      "text/plain": [
       "GridSearchCV(cv=None, error_score='raise',\n",
       "       estimator=SVC(C=1.0, cache_size=200, class_weight=None, coef0=0.0,\n",
       "  decision_function_shape=None, degree=3, gamma='auto', kernel='rbf',\n",
       "  max_iter=-1, probability=False, random_state=None, shrinking=True,\n",
       "  tol=0.001, verbose=False),\n",
       "       fit_params={}, iid=True, n_jobs=1,\n",
       "       param_grid={'kernel': ('linear', 'rbf'), 'C': [1, 10]},\n",
       "       pre_dispatch='2*n_jobs', refit=True, return_train_score=True,\n",
       "       scoring=None, verbose=0)"
      ]
     },
     "execution_count": 26,
     "metadata": {},
     "output_type": "execute_result"
    }
   ],
   "source": [
    "from sklearn import svm, datasets\n",
    "from sklearn.model_selection import GridSearchCV\n",
    "iris = datasets.load_iris()\n",
    "parameters = {'kernel':('linear', 'rbf'), 'C':[1, 10]}\n",
    "\n",
    "svr = svm.SVC()\n",
    "clf = GridSearchCV(svr, parameters)\n",
    "clf.fit(iris.data, iris.target)\n",
    "#clf.fit(X_train, y_train)"
   ]
  },
  {
   "cell_type": "code",
   "execution_count": null,
   "metadata": {
    "collapsed": false,
    "deletable": true,
    "editable": true
   },
   "outputs": [],
   "source": [
    "print(type(iris.data))"
   ]
  },
  {
   "cell_type": "code",
   "execution_count": null,
   "metadata": {
    "collapsed": false,
    "deletable": true,
    "editable": true
   },
   "outputs": [],
   "source": [
    "print(iris.data.shape)"
   ]
  },
  {
   "cell_type": "code",
   "execution_count": null,
   "metadata": {
    "collapsed": false,
    "deletable": true,
    "editable": true
   },
   "outputs": [],
   "source": [
    "print(iris.data[0].shape)"
   ]
  },
  {
   "cell_type": "code",
   "execution_count": null,
   "metadata": {
    "collapsed": true,
    "deletable": true,
    "editable": true
   },
   "outputs": [],
   "source": []
  },
  {
   "cell_type": "code",
   "execution_count": null,
   "metadata": {
    "collapsed": true,
    "deletable": true,
    "editable": true
   },
   "outputs": [],
   "source": []
  },
  {
   "cell_type": "code",
   "execution_count": null,
   "metadata": {
    "collapsed": true,
    "deletable": true,
    "editable": true
   },
   "outputs": [],
   "source": []
  },
  {
   "cell_type": "code",
   "execution_count": null,
   "metadata": {
    "collapsed": true,
    "deletable": true,
    "editable": true
   },
   "outputs": [],
   "source": []
  },
  {
   "cell_type": "code",
   "execution_count": null,
   "metadata": {
    "collapsed": true,
    "deletable": true,
    "editable": true
   },
   "outputs": [],
   "source": []
  },
  {
   "cell_type": "code",
   "execution_count": null,
   "metadata": {
    "collapsed": true,
    "deletable": true,
    "editable": true
   },
   "outputs": [],
   "source": []
  },
  {
   "cell_type": "code",
   "execution_count": null,
   "metadata": {
    "collapsed": true,
    "deletable": true,
    "editable": true
   },
   "outputs": [],
   "source": []
  },
  {
   "cell_type": "code",
   "execution_count": null,
   "metadata": {
    "collapsed": true,
    "deletable": true,
    "editable": true
   },
   "outputs": [],
   "source": []
  },
  {
   "cell_type": "code",
   "execution_count": null,
   "metadata": {
    "collapsed": false,
    "deletable": true,
    "editable": true
   },
   "outputs": [],
   "source": [
    "import numpy as np\n",
    "import cv2\n",
    "import matplotlib.pyplot as plt\n",
    "import matplotlib.image as mpimg\n",
    "import glob\n",
    "import math\n",
    "import statistics\n",
    "\n",
    "%matplotlib inline\n",
    "\n",
    "img = mpimg.imread('camera_cal/calibration1.jpg')\n",
    "\n",
    "f, (ax) = plt.subplots(1,1, figsize=(5,5))\n",
    "ax.set_title('Example of Image Used for Calibration')\n",
    "ax.imshow(img)\n",
    "plt.show()"
   ]
  },
  {
   "cell_type": "code",
   "execution_count": null,
   "metadata": {
    "collapsed": false,
    "deletable": true,
    "editable": true
   },
   "outputs": [],
   "source": [
    "cal_imgs = glob.glob('camera_cal/calibration*.jpg')\n",
    "print('# of images used for camera calibration:', len(cal_imgs))"
   ]
  },
  {
   "cell_type": "code",
   "execution_count": null,
   "metadata": {
    "collapsed": true,
    "deletable": true,
    "editable": true
   },
   "outputs": [],
   "source": [
    "# Storing the object points and image points for all the images from the image calibration list\n",
    "\n",
    "objpoints = [] #3D points coordinates representing the true (i.e. undistorted) positions of chessboard corners\n",
    "imgpoints = [] #2D points coordinates from the chessboard corners in an image"
   ]
  },
  {
   "cell_type": "code",
   "execution_count": null,
   "metadata": {
    "collapsed": false,
    "deletable": true,
    "editable": true
   },
   "outputs": [],
   "source": [
    "# Prepare object points. Based on pictures we have a 9x6 chessboard (i.e. number of valid corners)\n",
    "# Creating an array that will store the (x, y, z) values of each corner\n",
    "# For example the value of the first corner will be (0, 0, 0)\n",
    "# Note: since chessboard is flat, the z value of each corner coordinate will always be 0 here\n",
    "\n",
    "# Creating an initial array with 9x6 = 54 lists each holding 3 values (i.e. x, y, and z values)\n",
    "objp = np.zeros((9*6,3), np.float32)\n",
    "\n",
    "# Right now all the lists values in objp are (0, 0, 0) so there are just placeholders. \n",
    "# We will generate the right coordinate for each list value in objp\n",
    "objp[:, :2] = np.mgrid[0:9,0:6].T.reshape(-1, 2) # overwrite x, y coordinates with new correct values for each point"
   ]
  },
  {
   "cell_type": "code",
   "execution_count": null,
   "metadata": {
    "collapsed": false,
    "deletable": true,
    "editable": true
   },
   "outputs": [],
   "source": [
    "# Loop through all the images in the list of calibrating images\n",
    "# Find the chessboard corners on each image\n",
    "corners_9x6 = []\n",
    "corners_not_found = []\n",
    "counter = 0\n",
    "\n",
    "for img_path in cal_imgs:\n",
    "    # read the image\n",
    "    img = mpimg.imread(img_path)\n",
    "    # convert an image to grayscale\n",
    "    gray = cv2.cvtColor(img, cv2.COLOR_RGB2GRAY)\n",
    "\n",
    "    counter +=1 \n",
    "   \n",
    "    # Find the chessboard corners\n",
    "    ret, corners = cv2.findChessboardCorners(gray, (9,6), None)\n",
    "\n",
    "    # If corners are detected, add object points and image points from the chessboard image analyzed\n",
    "    if ret == True:\n",
    "        imgpoints.append(corners)\n",
    "        objpoints.append(objp)\n",
    "        corners_9x6.append(img_path)\n",
    "\n",
    "        # draw and display the corners\n",
    "        img = cv2.drawChessboardCorners(img, (9,6), corners, ret)\n",
    "        \n",
    "        # show an image with the corners found\n",
    "        if counter ==  4 or counter == 9:\n",
    "            f, (ax) = plt.subplots(1,1, figsize=(5,5))\n",
    "            ax.set_title('Example of Image with 9x6 Corners Found')\n",
    "            ax.imshow(img)\n",
    "            plt.show()\n",
    "    \n",
    "    else:\n",
    "        corners_not_found.append(img_path)\n",
    "\n",
    "\n",
    "print('\\n9x6 corners found for {} images'.format(len(corners_9x6)))\n",
    "print('9x5 corners not found for {} images'.format(len(corners_not_found)))"
   ]
  },
  {
   "cell_type": "code",
   "execution_count": null,
   "metadata": {
    "collapsed": false,
    "deletable": true,
    "editable": true
   },
   "outputs": [],
   "source": [
    "# Reading a grayscale, distorted image, which we're going to use for final calibration\n",
    "img = mpimg.imread('camera_cal/calibration2.jpg')\n",
    "gray = cv2.cvtColor(img, cv2.COLOR_RGB2GRAY)\n",
    "\n",
    "#Calibrating the camera using a grayscale image\n",
    "ret, mtx, dist, rvecs, tvecs = cv2.calibrateCamera(objpoints, imgpoints, gray.shape[::-1], None, None)\n",
    "\n",
    "#### Function to undistort an image\n",
    "#### Returns the original image and the undistorted image\n",
    "def show_undst(img):\n",
    "    dst = cv2.undistort(img, mtx, dist, None, mtx)\n",
    "    \n",
    "    return [img, dst]\n"
   ]
  },
  {
   "cell_type": "code",
   "execution_count": null,
   "metadata": {
    "collapsed": false,
    "deletable": true,
    "editable": true
   },
   "outputs": [],
   "source": [
    "cal_img = mpimg.imread('camera_cal/calibration1.jpg')\n",
    "test = show_undst(cal_img)\n",
    "\n",
    "f, (ax) = plt.subplots(1,1, figsize=(5,5))\n",
    "ax.set_title('Example of Calibrated (i.e. Undistorted) Image')\n",
    "ax.imshow(test[1])\n",
    "plt.show()"
   ]
  },
  {
   "cell_type": "code",
   "execution_count": null,
   "metadata": {
    "collapsed": false,
    "deletable": true,
    "editable": true
   },
   "outputs": [],
   "source": [
    "# Read one of the road test images\n",
    "reference = 'test_images/test2.jpg'\n",
    "img = mpimg.imread(reference)\n",
    "\n",
    "# Undistorting the test image\n",
    "test = show_undst(img)\n",
    "img_width = img.shape[1]\n",
    "img_height = img.shape[0]\n",
    "\n",
    "\n",
    "print('road image is of shape ', img.shape)\n",
    "\n",
    "f, (ax) = plt.subplots(1,1, figsize=(8,5))\n",
    "ax.set_title('Image before reducing distortion')\n",
    "ax.imshow(img)\n",
    "plt.show()\n",
    "\n",
    "f, (ax) = plt.subplots(1,1, figsize=(8,5))\n",
    "ax.set_title('Image after reducing distortion')\n",
    "ax.imshow(test[1])\n",
    "plt.show()\n"
   ]
  },
  {
   "cell_type": "code",
   "execution_count": null,
   "metadata": {
    "collapsed": false,
    "deletable": true,
    "editable": true
   },
   "outputs": [],
   "source": [
    "# xy coordinates of the points that represent a rectangle on a bird's eye view of the road\n",
    "# these coordinates will help us in getting rid of perspective so we can analyze and detect lane lines\n",
    "bt_l_x = 185  # x of bottom-left corner\n",
    "bt_r_x = 1095  # x of bottom-right corner\n",
    "top_l_x = bt_l_x+410  # x of top-left corner\n",
    "top_r_x = bt_r_x-410  # x of top-right corner\n",
    "bt_y = 720 # 716\n",
    "top_y = 450 # 450\n"
   ]
  },
  {
   "cell_type": "code",
   "execution_count": null,
   "metadata": {
    "collapsed": true,
    "deletable": true,
    "editable": true
   },
   "outputs": [],
   "source": [
    "#### Function to warp/unwarp perspective in an image\n",
    "#### Returns a list with: warped image (i.e. bird's eye view), the warped image unwarped (i.e. perspective reapplied)\n",
    "def warp(img):\n",
    "    img_size = (img.shape[1], img.shape[0])\n",
    "    \n",
    "    # Coordinates of 4 points on image. These points form a rectangle when unwarped\n",
    "    src = np.float32(\n",
    "        [[top_r_x, top_y],\n",
    "         [bt_r_x, bt_y],\n",
    "         [bt_l_x, bt_y],\n",
    "         [top_l_x, top_y]])\n",
    "\n",
    "    # Coordinates of these 4 points when unwarped\n",
    "    dst = np.float32(\n",
    "        [[bt_r_x-150, 0],\n",
    "         [bt_r_x-150, bt_y],\n",
    "         [bt_l_x+150, bt_y],\n",
    "         [bt_l_x+150, 0]])\n",
    "       \n",
    "    # Compute the perspective transform\n",
    "    M = cv2.getPerspectiveTransform(src, dst)\n",
    "    \n",
    "    # Compute the inverse of perspective transform, by just swapping the dst and src parameters\n",
    "    Minv = cv2.getPerspectiveTransform(dst, src)\n",
    "    \n",
    "    # Create warped image by using linear interpolation\n",
    "    warped = cv2.warpPerspective(img, M, img_size, flags=cv2.INTER_LINEAR)\n",
    "    reverted = cv2.warpPerspective(img, Minv, img_size, flags=cv2.INTER_LINEAR)\n",
    "       \n",
    "    return [warped, reverted]"
   ]
  },
  {
   "cell_type": "code",
   "execution_count": null,
   "metadata": {
    "collapsed": true,
    "deletable": true,
    "editable": true
   },
   "outputs": [],
   "source": [
    "# Apply the warp function to our undistorted image\n",
    "transformed_imgs = warp(test[1])\n",
    "\n",
    "# Make a copies of the warped image (we don't want to modify the original)\n",
    "warped_img = transformed_imgs[0].copy()\n",
    "warped_img_c = transformed_imgs[0].copy()\n",
    "# Make a copy of the perspective image (we don't want to modify the original)\n",
    "persp_img = test[1].copy()"
   ]
  },
  {
   "cell_type": "code",
   "execution_count": null,
   "metadata": {
    "collapsed": false,
    "deletable": true,
    "editable": true
   },
   "outputs": [],
   "source": [
    "#### visual comparison of the original image (with perspective 'rectangle') and warped image (bird's eye view)\n",
    "def compare_imgs(undistored_img, bird_view_img):\n",
    "\n",
    "    f, (ax1, ax2) = plt.subplots(1,2, figsize=(20,10))\n",
    "\n",
    "    ax1.set_title('Original image')\n",
    "    # Draw a red polygon showing lane perspective\n",
    "    pts = np.array([[bt_l_x,bt_y],[top_l_x,top_y],[top_r_x,top_y],[bt_r_x,bt_y]], np.int32)\n",
    "    pts = pts.reshape((-1,1,2))\n",
    "    cv2.polylines(undistored_img,[pts],True,(255,0,0),4)\n",
    "    ax1.imshow(undistored_img)\n",
    "\n",
    "    ax2.set_title('Warped image')\n",
    "    # Draw parallel red and blue lines on a bird's eye view of the road\n",
    "    real_pts = np.array([[bt_l_x+150,bt_y],[bt_l_x+150,0],[bt_r_x-150,0],[bt_r_x-150,bt_y]], np.int32)\n",
    "    cv2.line(bird_view_img, (bt_l_x+150,bt_y), (bt_l_x+150,0), (255, 0, 0), 10)\n",
    "    cv2.line(bird_view_img, (bt_r_x-150,bt_y), (bt_r_x-150,0), (0, 0, 255), 10)\n",
    "    ax2.imshow(bird_view_img)"
   ]
  },
  {
   "cell_type": "code",
   "execution_count": null,
   "metadata": {
    "collapsed": false,
    "deletable": true,
    "editable": true
   },
   "outputs": [],
   "source": [
    "# Compare the original road test image with the warped image of the road (i.e. bird's eye view)\n",
    "compare_imgs(persp_img, warped_img_c)"
   ]
  },
  {
   "cell_type": "code",
   "execution_count": null,
   "metadata": {
    "collapsed": false,
    "deletable": true,
    "editable": true
   },
   "outputs": [],
   "source": [
    "# We can revert the warped image back to the original perspective using \n",
    "# the warp() function\n",
    "reverted_imgs = warp(warped_img_c)\n",
    "revert_back = reverted_imgs[1]\n",
    "plt.imshow(revert_back)\n",
    "plt.show()"
   ]
  },
  {
   "cell_type": "code",
   "execution_count": null,
   "metadata": {
    "collapsed": true,
    "deletable": true,
    "editable": true
   },
   "outputs": [],
   "source": [
    "#### Find the edges in the picture using the Sobel function in OpenCV\n",
    "#### the default is 'x' to find mostly vertical edges (since our lane lines are mostly vertical)\n",
    "def absolute_sobel(img, orient='x', thresh_min=20, thresh_max=100):\n",
    "    # Convert image to grayscale\n",
    "    gray = cv2.cvtColor(img, cv2.COLOR_RGB2GRAY)\n",
    "    # Apply cv2.Sobel()\n",
    "    if orient == 'x':\n",
    "        sobel = cv2.Sobel(gray, cv2.CV_64F, 1, 0)\n",
    "    elif orient == 'y':\n",
    "        sobel = cv2.Sobel(gray, cv2.CV_64F, 0, 1)\n",
    "    # Take the absolute value of the output from cv2.Sobel()\n",
    "    abs_sobel = np.absolute(sobel)\n",
    "    # Scale the result to an 8-bit range (0-255)\n",
    "    scaled_sobel = np.uint8(255*abs_sobel/np.max(abs_sobel))\n",
    "    \n",
    "    return scaled_sobel"
   ]
  },
  {
   "cell_type": "code",
   "execution_count": null,
   "metadata": {
    "collapsed": false,
    "deletable": true,
    "editable": true
   },
   "outputs": [],
   "source": [
    "#### Converting an image to HLS color space, because Hue is helpful to catch yellow lanes\n",
    "#### while Lightness and Saturation are helpful to find both lanes\n",
    "def apply_hls(img):\n",
    "    hls = cv2.cvtColor(img, cv2.COLOR_RGB2HLS)\n",
    "    hue_img = hls[:,:,0]\n",
    "    light_img = hls[:,:,1]\n",
    "    sat_img = hls[:,:,2]\n",
    "    \n",
    "    return (hue_img, light_img, sat_img)"
   ]
  },
  {
   "cell_type": "code",
   "execution_count": null,
   "metadata": {
    "collapsed": true,
    "deletable": true,
    "editable": true
   },
   "outputs": [],
   "source": [
    "#### Converting an image to a binary showing only the pixels whose value was within a threshold\n",
    "def to_binary(img, thresh_min, thresh_max):\n",
    "    binary = np.zeros_like(img)\n",
    "    binary[(img >= thresh_min) & (img <= thresh_max)] = 1\n",
    "    # Create binary_output\n",
    "    return binary"
   ]
  },
  {
   "cell_type": "code",
   "execution_count": null,
   "metadata": {
    "collapsed": true,
    "deletable": true,
    "editable": true
   },
   "outputs": [],
   "source": [
    "#### Take an image and apply to it all the filters (sobel and HLS)\n",
    "def apply_filters(img):\n",
    "    sb = absolute_sobel(img)\n",
    "    sb_binary = to_binary(sb, 20, 100)\n",
    "    \n",
    "    hue, light, sat = apply_hls(img)\n",
    "    hue_binary = to_binary(hue, 17, 50)\n",
    "    light_binary =  to_binary(light, 190, 255)\n",
    "    sat_binary = to_binary(sat, 100, 255)\n",
    "    \n",
    "    return(sb, sb_binary, hue, hue_binary, light, light_binary, sat, sat_binary)"
   ]
  },
  {
   "cell_type": "code",
   "execution_count": null,
   "metadata": {
    "collapsed": false,
    "deletable": true,
    "editable": true
   },
   "outputs": [],
   "source": [
    "sobel, sobel_binary, H, H_binary, L, L_binary, S, S_binary = apply_filters(warped_img)"
   ]
  },
  {
   "cell_type": "code",
   "execution_count": null,
   "metadata": {
    "collapsed": true,
    "deletable": true,
    "editable": true
   },
   "outputs": [],
   "source": [
    "#### Visual comparison of images\n",
    "def compare_two_imgs(w_img1, w_img2, title_1, title_2):\n",
    "    f, (ax1, ax2) = plt.subplots(1,2, figsize=(20,10))\n",
    "\n",
    "    ax1.set_title(title_1)\n",
    "    ax1.imshow(w_img1, cmap = 'gray')\n",
    "    \n",
    "    ax2.set_title(title_2)\n",
    "    ax2.imshow(w_img2, cmap = 'gray') "
   ]
  },
  {
   "cell_type": "code",
   "execution_count": null,
   "metadata": {
    "collapsed": false,
    "deletable": true,
    "editable": true
   },
   "outputs": [],
   "source": [
    "compare_two_imgs(sobel, sobel_binary, \"Sobel Image\", \"Sobel Binary\")\n",
    "compare_two_imgs(H, H_binary, \"Hue Image\", \"Hue Binary\")\n",
    "compare_two_imgs(L, L_binary, \"Lightness Image\", \"Lightness Binary\")\n",
    "compare_two_imgs(S, S_binary, \"Saturation Image\", \"Saturation Binary\")"
   ]
  },
  {
   "cell_type": "code",
   "execution_count": null,
   "metadata": {
    "collapsed": false,
    "deletable": true,
    "editable": true
   },
   "outputs": [],
   "source": [
    "#### Combine the binary results from all the filter to get the pixels that are good candidates\n",
    "#### to draw lane lines\n",
    "def show_lines(sb_bin, hue_bin, light_bin, sat_bin):\n",
    "    binary = np.zeros_like(sb_bin)\n",
    "    binary[(sb_bin == 1) | (hue_bin == 1) | (light_bin == 1) | (sat_bin == 1)] = 1\n",
    "    # Create binary_output\n",
    "    return binary"
   ]
  },
  {
   "cell_type": "code",
   "execution_count": null,
   "metadata": {
    "collapsed": false,
    "deletable": true,
    "editable": true
   },
   "outputs": [],
   "source": [
    "#### Combine the binary results from all the filters to get the pixels that are good candidates\n",
    "#### to draw lane lines. \n",
    "#### show_lines2() differ from show_lines() in that it will only retain a pixel\n",
    "#### if the same pixel is white in at least two binary results\n",
    "def show_lines2(sb_bin, hue_bin, light_bin, sat_bin):\n",
    "    binary = np.zeros_like(sb_bin)\n",
    "    binary[(((sb_bin == 1) | (hue_bin == 1)) & ((light_bin == 1) | (sat_bin == 1))) | (((sb_bin == 1) | (light_bin == 1)) & ((hue_bin == 1) | (sat_bin == 1)))] = 1\n",
    "    # Create binary_output\n",
    "    return binary"
   ]
  },
  {
   "cell_type": "code",
   "execution_count": null,
   "metadata": {
    "collapsed": false,
    "deletable": true,
    "editable": true
   },
   "outputs": [],
   "source": [
    "final = show_lines(sobel_binary, H_binary, L_binary, S_binary)\n",
    "final2 = show_lines2(sobel_binary, H_binary, L_binary, S_binary)\n",
    "binary_warped = final2.copy()"
   ]
  },
  {
   "cell_type": "code",
   "execution_count": null,
   "metadata": {
    "collapsed": false,
    "deletable": true,
    "editable": true
   },
   "outputs": [],
   "source": [
    "# comparing results from the two methods\n",
    "compare_two_imgs(final, binary_warped, \"Pixels retained using Showlines()\", \n",
    "                 'Pixels retained using modified function: Showlines2()')\n"
   ]
  },
  {
   "cell_type": "code",
   "execution_count": null,
   "metadata": {
    "collapsed": false,
    "deletable": true,
    "editable": true
   },
   "outputs": [],
   "source": [
    "# Define global variables that we use to store info about our previously found lanes\n",
    "glob_left_fit_list = []\n",
    "glob_right_fit_list = []\n",
    "glob_curvatures = []\n",
    "glob_mean_curvs = []\n",
    "glob_curvature = 0.0\n",
    "glob_dist_ctr = 0.0\n",
    "glob_counter = 0"
   ]
  },
  {
   "cell_type": "code",
   "execution_count": null,
   "metadata": {
    "collapsed": true,
    "deletable": true,
    "editable": true
   },
   "outputs": [],
   "source": [
    "#### Thorough lane search\n",
    "#### This will use search windows scanning vertically accross the image (for both the left and right lines)\n",
    "#### If a certain number of nonzeros (i.e. 'white pixels') are found in the window, they are considered\n",
    "#### as valid in our search for the lane. Additionally, if more than a certain number of valid pixels (minpix)\n",
    "#### are found in one window, then the next search window up will have its center based on the \n",
    "#### mean position of these pixels in the previous search window\n",
    "def thorough_lane_search(leftx_base, rightx_base, binary_warped, nonzerox, nonzeroy):\n",
    "    # Current positions to be updated for each window\n",
    "    leftx_current = leftx_base\n",
    "    rightx_current = rightx_base\n",
    "    \n",
    "    # Choose the number of sliding windows\n",
    "    nwindows = 9\n",
    "    # Set height of windows\n",
    "    window_height = np.int(binary_warped.shape[0]/nwindows)\n",
    "    \n",
    "    # Set the width of the windows +/- margin\n",
    "    margin = 100\n",
    "    # Set minimum number of pixels found to recenter window\n",
    "    minpix = 50\n",
    "    # Create empty lists to receive left and right lane pixel indices\n",
    "    left_lane_inds = []\n",
    "    right_lane_inds = []\n",
    "\n",
    "    # Step through the windows one by one\n",
    "    for window in range(nwindows):\n",
    "        # Identify window boundaries in x and y (and right and left)\n",
    "        win_y_low = binary_warped.shape[0] - (window+1)*window_height\n",
    "        win_y_high = binary_warped.shape[0] - window*window_height\n",
    "        win_xleft_low = leftx_current - margin\n",
    "        win_xleft_high = leftx_current + margin\n",
    "        win_xright_low = rightx_current - margin\n",
    "        win_xright_high = rightx_current + margin\n",
    "\n",
    "        # Identify the nonzero pixels in x and y within the window\n",
    "        good_left_inds = ((nonzeroy >= win_y_low) & (nonzeroy < win_y_high) & (nonzerox >= win_xleft_low) & (nonzerox < win_xleft_high)).nonzero()[0]\n",
    "        good_right_inds = ((nonzeroy >= win_y_low) & (nonzeroy < win_y_high) & (nonzerox >= win_xright_low) & (nonzerox < win_xright_high)).nonzero()[0]\n",
    "        # Append these indices to the lists\n",
    "        left_lane_inds.append(good_left_inds)\n",
    "        right_lane_inds.append(good_right_inds)\n",
    "        # If you found > minpix pixels, recenter next window on their mean position\n",
    "        if len(good_left_inds) > minpix:\n",
    "            leftx_current = np.int(np.mean(nonzerox[good_left_inds]))\n",
    "        if len(good_right_inds) > minpix:        \n",
    "            rightx_current = np.int(np.mean(nonzerox[good_right_inds]))\n",
    "\n",
    "    # Concatenate the arrays of indices\n",
    "    left_lane_inds = np.concatenate(left_lane_inds)\n",
    "    right_lane_inds = np.concatenate(right_lane_inds)\n",
    "    \n",
    "    return [left_lane_inds, right_lane_inds]\n"
   ]
  },
  {
   "cell_type": "code",
   "execution_count": null,
   "metadata": {
    "collapsed": false,
    "deletable": true,
    "editable": true
   },
   "outputs": [],
   "source": [
    "#### Quick lane search\n",
    "#### Here we assume we already have found the left and right lane lines using a thorough search in a previous\n",
    "#### frame, so we can narrow the search area for good lane pixels candidates in the binary file\n",
    "def quick_lane_search(binary_warped, nonzerox, nonzeroy):\n",
    "    global glob_left_fit_list \n",
    "    global glob_right_fit_list\n",
    "    global glob_counter\n",
    "    \n",
    "    A_coeff = []\n",
    "    B_coeff = []\n",
    "    C_coeff = []\n",
    "    \n",
    "    glob_counter += 1\n",
    "    for i in glob_right_fit_list:\n",
    "        A_coeff.append(i[0])\n",
    "        B_coeff.append(i[1])\n",
    "        C_coeff.append(i[2])\n",
    "        med_A = statistics.median(A_coeff)\n",
    "        med_B = statistics.median(B_coeff)\n",
    "        med_C = statistics.median(C_coeff)\n",
    "    \n",
    "    left_fit = glob_left_fit_list[-1]\n",
    "    \n",
    "    # Previous test shows it is more difficult to find the right lane\n",
    "    # so I'm using average values from previous frame analyses to help create a search area \n",
    "    # for the current frame's right lane line\n",
    "    right_fit = np.array([med_A, med_B, med_C])\n",
    "    \n",
    "    margin = 80\n",
    "    left_lane_inds = ((nonzerox > (left_fit[0]*(nonzeroy**2) + left_fit[1]*nonzeroy + left_fit[2] - margin)) & (nonzerox < (left_fit[0]*(nonzeroy**2) + left_fit[1]*nonzeroy + left_fit[2] + margin))) \n",
    "    right_lane_inds = ((nonzerox > (right_fit[0]*(nonzeroy**2) + right_fit[1]*nonzeroy + right_fit[2] - margin)) & (nonzerox < (right_fit[0]*(nonzeroy**2) + right_fit[1]*nonzeroy + right_fit[2] + margin)))  \n",
    "    \n",
    "    # return indices for the left and right lane lines\n",
    "    return [left_lane_inds, right_lane_inds]"
   ]
  },
  {
   "cell_type": "code",
   "execution_count": null,
   "metadata": {
    "collapsed": true,
    "deletable": true,
    "editable": true
   },
   "outputs": [],
   "source": [
    "# Find the max, min and median value in a list of numbers\n",
    "def find_max_min_med(num_list):\n",
    "    maximum = max(num_list)\n",
    "    minimum = min(num_list)\n",
    "    median = statistics.median(num_list)\n",
    "    std_dev = stdev(num_list)\n",
    "    return [maximum, minimum, median, std_dev]"
   ]
  },
  {
   "cell_type": "code",
   "execution_count": null,
   "metadata": {
    "collapsed": false,
    "deletable": true,
    "editable": true
   },
   "outputs": [],
   "source": [
    "# Find a line that fits each of the lane lines, using a binary image\n",
    "def draw_lanes(binary_warped):\n",
    "    global glob_left_fit_list \n",
    "    global glob_right_fit_list\n",
    "    \n",
    "    left_lane_inds = None \n",
    "    right_lane_inds = None\n",
    "    # List to store polynomial lines coefficients from previous frames\n",
    "    A_coeff_right = []\n",
    "    B_coeff_right = []\n",
    "    C_coeff_right = []\n",
    "    \n",
    "    \n",
    "    # Assuming you have created a warped binary image called \"binary_warped\"\n",
    "    # Take a histogram of the bottom half of the image\n",
    "    histogram = np.sum(binary_warped[int(binary_warped.shape[0]/2):,:], axis=0)\n",
    "    \n",
    "    # Find the peak of the left and right halves of the histogram\n",
    "    # These will be the starting point for the left and right lines\n",
    "    midpoint = np.int(histogram.shape[0]/2)\n",
    "    leftx_base = np.argmax(histogram[:midpoint])\n",
    "    rightx_base = np.argmax(histogram[midpoint:]) + midpoint\n",
    "    \n",
    "    # Identify the x and y positions of all nonzero pixels in the image\n",
    "    nonzero = binary_warped.nonzero()\n",
    "    nonzeroy = np.array(nonzero[0])\n",
    "    nonzerox = np.array(nonzero[1])\n",
    "    \n",
    "    # If there are no saved polynomial coefficients in glob_left_fit_list or glob_right_fit_list  \n",
    "    # (which means no lanes were found in the previous frame or frames)\n",
    "    # then we need to use a more extensive method to find lanes\n",
    "    if (len(glob_left_fit_list) == 0 or len(glob_right_fit_list) == 0):\n",
    "        left_lane_inds, right_lane_inds = thorough_lane_search(leftx_base, rightx_base, binary_warped, nonzerox, nonzeroy)\n",
    "\n",
    "    # If we do already have saved polynomial coefficients in glob_left_fit_list and glob_right_fit_list\n",
    "    # then we can use them to create narrower ranges to search for the left and right lanes\n",
    "    else:\n",
    "        left_lane_inds, right_lane_inds = quick_lane_search(binary_warped, nonzerox, nonzeroy)\n",
    "    \n",
    "    # Extract left and right line pixel positions\n",
    "    leftx = nonzerox[left_lane_inds]\n",
    "    lefty = nonzeroy[left_lane_inds] \n",
    "    rightx = nonzerox[right_lane_inds]\n",
    "    righty = nonzeroy[right_lane_inds] \n",
    "  \n",
    "    # Fit a second order polynomial to each\n",
    "    left_fit = np.polyfit(lefty, leftx, 2)\n",
    "    right_fit = np.polyfit(righty, rightx, 2)\n",
    "    \n",
    "    # Now that we have our left_fit and right_fit for the lanes, find their curvatures in meters\n",
    "    find_curvature(binary_warped, left_fit, right_fit, lefty, leftx, righty, rightx)\n",
    "    # find_curvature() will update a global variable that we can then evaluate in process_image()  \n",
    "    \n",
    "    # With left_fit and right_fit for the lanes, we can also find the deviation from the center of the lane\n",
    "    car_offset(binary_warped, left_fit, right_fit)\n",
    "    # car offset() will update a global variable that we can use in process_image\n",
    "    \n",
    "    # Generate x and y values for plotting\n",
    "    ploty = np.linspace(0, binary_warped.shape[0]-1, binary_warped.shape[0] )\n",
    "    left_fitx = left_fit[0]*ploty**2 + left_fit[1]*ploty + left_fit[2]\n",
    "    right_fitx = right_fit[0]*ploty**2 + right_fit[1]*ploty + right_fit[2]\n",
    "    \n",
    "    # Overwrite the global variables that we use to store info about our previously found lanes\n",
    "    if len(glob_left_fit_list)>=7:\n",
    "        glob_left_fit_list = glob_left_fit_list[1:]\n",
    "    glob_left_fit_list.append(left_fit)\n",
    "    if len(glob_right_fit_list)>=5:    \n",
    "        glob_right_fit_list = glob_right_fit_list[1:]\n",
    "    glob_right_fit_list.append(right_fit)\n",
    "     \n",
    "    # Create an image to draw on and an image to show the selection window\n",
    "    out_img = np.zeros_like(warped_img)\n",
    "    window_img = np.zeros_like(out_img)\n",
    "\n",
    "    # Generate a polygon to illustrate the search window area\n",
    "    # And recast the x and y points into usable format for cv2.fillPoly()\n",
    "    lane_window1 = np.array([np.transpose(np.vstack([left_fitx, ploty]))])\n",
    "    lane_window2 = np.array([np.flipud(np.transpose(np.vstack([right_fitx, ploty])))])\n",
    "    lane_pts = np.hstack((lane_window1, lane_window2))\n",
    "    \n",
    "    # Draw the lane onto the warped blank image\n",
    "    cv2.fillPoly(window_img, np.int_([lane_pts]), (0, 255, 0))\n",
    "\n",
    "    # Color in left and right line pixels\n",
    "    #out_img[nonzeroy[left_lane_inds], nonzerox[left_lane_inds]] = [255, 0, 0]\n",
    "    #out_img[nonzeroy[right_lane_inds], nonzerox[right_lane_inds]] = [255, 0, 0]\n",
    "    result = cv2.addWeighted(out_img, 1, window_img, 0.3, 0)\n",
    "    \n",
    "    return result\n"
   ]
  },
  {
   "cell_type": "code",
   "execution_count": null,
   "metadata": {
    "collapsed": false,
    "deletable": true,
    "editable": true
   },
   "outputs": [],
   "source": [
    "##### Calculating radius of curvature\n",
    "\n",
    "# The y values on image increase from top of image to bottom\n",
    "# so the y value at the bottom is equal to the number of lines in the image: image.shape[0]\n",
    "# We can evaluate the radius of curvature of left and right lanes at any line of the image\n",
    "# I'll choose the maximum y-value, corresponding to the bottom of the image\n",
    "def find_curvature(binary_warped, left_fit, right_fit, lefty, leftx, righty, rightx):\n",
    "    global glob_curvatures \n",
    "    global glob_curvature\n",
    "    global glob_mean_curvs\n",
    "    \n",
    "    y_eval = binary_warped.shape[0]\n",
    "    left_curverad = ((1 + (2*left_fit[0]*y_eval + left_fit[1])**2)**1.5) / np.absolute(2*left_fit[0])\n",
    "    right_curverad = ((1 + (2*right_fit[0]*y_eval + right_fit[1])**2)**1.5) / np.absolute(2*right_fit[0])\n",
    "    # Example values: 1926.74 1908.48\n",
    "\n",
    "    # Define conversions in x and y from pixels space to meters\n",
    "    ym_per_pix = 48/720 # meters per pixel in y dimension\n",
    "    xm_per_pix = 3.7/610 # meters per pixel in x dimension\n",
    "\n",
    "    # Fit new polynomials to x,y in world space\n",
    "    left_fit_cr = np.polyfit(lefty*ym_per_pix, leftx*xm_per_pix, 2)\n",
    "    right_fit_cr = np.polyfit(righty*ym_per_pix, rightx*xm_per_pix, 2)\n",
    "\n",
    "    # Calculate the new radii of curvature\n",
    "    left_curverad = ((1 + (2*left_fit_cr[0]*y_eval*ym_per_pix + left_fit_cr[1])**2)**1.5) / np.absolute(2*left_fit_cr[0])\n",
    "    right_curverad = ((1 + (2*right_fit_cr[0]*y_eval*ym_per_pix + right_fit_cr[1])**2)**1.5) / np.absolute(2*right_fit_cr[0])\n",
    "    # Now our radius of curvature is in meters\n",
    "    \n",
    "    glob_curvatures.append([left_curverad, right_curverad])\n",
    "    glob_curvatures = glob_curvatures[-21:]\n",
    "    curr_mean_curv = np.mean(glob_curvatures)\n",
    "    \n",
    "    glob_mean_curvs.append(curr_mean_curv)\n",
    "    if len(glob_mean_curvs) >= 42:\n",
    "        glob_mean_curvs = glob_mean_curvs[-21:]\n",
    "        temp_curv = np.median(glob_mean_curvs)\n",
    "        glob_curvature = temp_curv\n",
    "    elif len(glob_mean_curvs) == 21:\n",
    "        temp_curv = np.median(glob_mean_curvs)\n",
    "        glob_curvature = temp_curv\n",
    "    elif glob_curvature == 0.0:\n",
    "        glob_curvature = np.median(glob_mean_curvs)\n"
   ]
  },
  {
   "cell_type": "code",
   "execution_count": null,
   "metadata": {
    "collapsed": false,
    "deletable": true,
    "editable": true
   },
   "outputs": [],
   "source": [
    "#### calculating offset of car with regards to center of lane\n",
    "# we want the x position of each line at the bottom of the image: binary_warped.shape[0]\n",
    "def car_offset(binary_warped, left_fit, right_fit):\n",
    "    global glob_dist_ctr\n",
    "    global glob_counter\n",
    "    xm_per_pix = 3.7/610 # meters per pixel in x dimension 3.7/700\n",
    "    \n",
    "    ploty = binary_warped.shape[0]\n",
    "    bottom_left_x = left_fit[0]*ploty**2 + left_fit[1]*ploty + left_fit[2]\n",
    "    bottom_right_x = right_fit[0]*ploty**2 + right_fit[1]*ploty + right_fit[2]\n",
    "\n",
    "    center_of_lane = int((bottom_right_x - bottom_left_x)/2 + bottom_left_x)\n",
    "    center_of_img = binary_warped.shape[1]/2\n",
    "\n",
    "    glob_dist_ctr = (center_of_lane - center_of_img) * xm_per_pix\n"
   ]
  },
  {
   "cell_type": "code",
   "execution_count": null,
   "metadata": {
    "collapsed": false,
    "deletable": true,
    "editable": true
   },
   "outputs": [],
   "source": [
    "bev_color_lanes = draw_lanes(binary_warped)\n",
    "plt.title('Drawing of lane with valid pixels used for each line')\n",
    "plt.imshow(bev_color_lanes)\n",
    "plt.show()"
   ]
  },
  {
   "cell_type": "code",
   "execution_count": null,
   "metadata": {
    "collapsed": false,
    "deletable": true,
    "editable": true
   },
   "outputs": [],
   "source": [
    "# Revert warped img to original\n",
    "reverted_imgs = warp(bev_color_lanes)\n",
    "revert_back = reverted_imgs[1]\n",
    "plt.imshow(revert_back)\n",
    "plt.show()"
   ]
  },
  {
   "cell_type": "code",
   "execution_count": null,
   "metadata": {
    "collapsed": true,
    "deletable": true,
    "editable": true
   },
   "outputs": [],
   "source": [
    "# Import everything needed to edit/save/watch video clips\n",
    "from moviepy.editor import VideoFileClip\n",
    "from IPython.display import HTML"
   ]
  },
  {
   "cell_type": "code",
   "execution_count": null,
   "metadata": {
    "collapsed": false,
    "deletable": true,
    "editable": true
   },
   "outputs": [],
   "source": [
    "#### This function combines all the other functions used to undistort and unwarp image; \n",
    "#### find lane lines, curvature and distance from center; and draw these findings back \n",
    "#### on the original image\n",
    "def process_image(img_feed):\n",
    "    # NOTE: The output you return should be a color image (3 channel) for processing video below\n",
    "    global glob_curvatures\n",
    "    global glob_curvature\n",
    "    global glob_dist_ctr\n",
    "    \n",
    "    # copying the image just provided\n",
    "    img = np.copy(img_feed)\n",
    "    \n",
    "    # undistort the image\n",
    "    undst_img = show_undst(img)\n",
    "    # return [img, dst]\n",
    "    \n",
    "    # Tranform the image so that it looks like bird's eye view\n",
    "    warped_img = warp(undst_img[1])\n",
    "    # return [warped, reverted]\n",
    "    \n",
    "    # apply all the filters (sobel, HLS)\n",
    "    # return(sb, sb_binary, hue, hue_binary, light, light_binary, sat, sat_binary)\n",
    "    sobel, sobel_binary, H, H_binary, L, L_binary, S, S_binary = apply_filters(warped_img[0])\n",
    "    \n",
    "    # Determine what data points to keep to find the lanes\n",
    "    final_binary = show_lines2(sobel_binary, H_binary, L_binary, S_binary)\n",
    "    # return binary\n",
    "    binary_warped = final_binary.copy()\n",
    "    \n",
    "    # Get bird's eye view image with left and right lanes drawn and the space in between colored\n",
    "    bev_color_lanes = draw_lanes(binary_warped)\n",
    "    # return an RGB image\n",
    "    \n",
    "    # Revert warped img with colored lanes to original\n",
    "    reverted_imgs = warp(bev_color_lanes)\n",
    "    revert_back = reverted_imgs[1]\n",
    "    \n",
    "    # Text for distance to center\n",
    "    if glob_dist_ctr > 0.0:\n",
    "        dist_text = 'Deviation: {:.01f}m left of center'.format(glob_dist_ctr)\n",
    "    else:\n",
    "        dist_text = 'Deviation: {:.01f}m right of center'.format(np.absolute(glob_dist_ctr))\n",
    "    \n",
    "    blended_image = cv2.addWeighted(img_feed, 1.0, revert_back, 0.5, 0.0)\n",
    "    font = cv2.FONT_HERSHEY_SIMPLEX\n",
    "    mid_curvature = glob_curvature\n",
    "    curv_info_img = cv2.putText(blended_image,\"Curvature: {:.00f}m\".format(mid_curvature) ,(20,35), font, 1,(255,255,255),2)\n",
    "    final_image = cv2.putText(blended_image, dist_text,(500,700), font, 1,(255,255,255),2)\n",
    "    \n",
    "    return final_image"
   ]
  },
  {
   "cell_type": "code",
   "execution_count": null,
   "metadata": {
    "collapsed": false,
    "deletable": true,
    "editable": true
   },
   "outputs": [],
   "source": [
    "origin_copy = test[1].copy()\n",
    "new_pic = process_image(origin_copy)\n",
    "\n",
    "f, (ax) = plt.subplots(1,1, figsize=(10,5))\n",
    "ax.imshow(new_pic)\n",
    "plt.show()"
   ]
  },
  {
   "cell_type": "code",
   "execution_count": null,
   "metadata": {
    "collapsed": true,
    "deletable": true,
    "editable": true
   },
   "outputs": [],
   "source": [
    "# Reset to 0 the global variables that we use to store info about our previously found lanes\n",
    "glob_left_fit_list = []\n",
    "glob_right_fit_list = []\n",
    "glob_curvatures = []\n",
    "glob_mean_curvs = []\n",
    "glob_curvature = 0.0\n",
    "glob_dist_ctr = 0.0"
   ]
  },
  {
   "cell_type": "code",
   "execution_count": null,
   "metadata": {
    "collapsed": false,
    "deletable": true,
    "editable": true
   },
   "outputs": [],
   "source": [
    "white_output = 'project_video_output.mp4'\n",
    "clip1 = VideoFileClip(\"project_video.mp4\")\n",
    "white_clip = clip1.fl_image(process_image) #NOTE: this function expects color images!!\n",
    "%time white_clip.write_videofile(white_output, audio=False)"
   ]
  }
 ],
 "metadata": {
  "anaconda-cloud": {},
  "kernelspec": {
   "display_name": "Python 3",
   "language": "python",
   "name": "python3"
  },
  "language_info": {
   "codemirror_mode": {
    "name": "ipython",
    "version": 3
   },
   "file_extension": ".py",
   "mimetype": "text/x-python",
   "name": "python",
   "nbconvert_exporter": "python",
   "pygments_lexer": "ipython3",
   "version": "3.5.2"
  },
  "widgets": {
   "state": {},
   "version": "1.1.2"
  }
 },
 "nbformat": 4,
 "nbformat_minor": 0
}
